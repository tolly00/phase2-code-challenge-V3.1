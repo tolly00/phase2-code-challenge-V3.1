{
 "cells": [
  {
   "cell_type": "markdown",
   "metadata": {
    "nbgrader": {
     "grade": false,
     "grade_id": "cell-406d340d7286364c",
     "locked": true,
     "schema_version": 3,
     "solution": false,
     "task": false
    }
   },
   "source": [
    "# Phase 2 Code Challenge\n",
    "\n",
    "This code challenge is designed to test your understanding of the Phase 2 material. It covers:\n",
    "\n",
    "- SQL\n",
    "- Normal Distribution\n",
    "- Statistical Tests\n",
    "\n",
    "_Read the instructions carefully_. You will be asked both to write code and to answer short answer questions.\n",
    "\n",
    "## Code Tests\n",
    "\n",
    "We have provided some code tests for you to run to check that your work meets the item specifications. Passing these tests does not necessarily mean that you have gotten the item correct - there are additional hidden tests. However, if any of the tests do not pass, this tells you that your code is incorrect and needs changes to meet the specification. To determine what the issue is, read the comments in the code test cells, the error message you receive, and the item instructions.\n",
    "\n",
    "## Short Answer Questions \n",
    "\n",
    "For the short answer questions...\n",
    "\n",
    "* _Use your own words_. It is OK to refer to outside resources when crafting your response, but _do not copy text from another source_.\n",
    "\n",
    "* _Communicate clearly_. We are not grading your writing skills, but you can only receive full credit if your teacher is able to fully understand your response. \n",
    "\n",
    "* _Be concise_. You should be able to answer most short answer questions in a sentence or two. Writing unnecessarily long answers increases the risk of you being unclear or saying something incorrect."
   ]
  },
  {
   "cell_type": "code",
   "execution_count": 1,
   "metadata": {
    "nbgrader": {
     "grade": false,
     "grade_id": "cell-d04c1470087d31aa",
     "locked": true,
     "schema_version": 3,
     "solution": false,
     "task": false
    }
   },
   "outputs": [],
   "source": [
    "# CodeGrade step0\n",
    "# Run this cell without changes to import the necessary libraries\n",
    "\n",
    "import itertools\n",
    "import numpy as np\n",
    "import pandas as pd \n",
    "from numbers import Number\n",
    "import sqlite3\n",
    "from scipy import stats\n",
    "import matplotlib.pyplot as plt\n",
    "import seaborn as sns\n",
    "import warnings\n",
    "warnings.filterwarnings('ignore')\n",
    "\n",
    "import pickle"
   ]
  },
  {
   "cell_type": "markdown",
   "metadata": {},
   "source": [
    "---\n",
    "## Part 1: SQL [Suggested time: 20 minutes]\n",
    "---\n",
    "In this part, you will create and execute three SQL queries on the Chinook database. For this challenge **you will need to access the `Album` and `Artist` tables**."
   ]
  },
  {
   "cell_type": "markdown",
   "metadata": {},
   "source": [
    "### 1) Connect to the Database."
   ]
  },
  {
   "cell_type": "code",
   "execution_count": 2,
   "metadata": {},
   "outputs": [],
   "source": [
    "# CodeGrade step1\n",
    "# Replace None with appropriate code\n",
    "# Connect to the Database here (\"Chinook_Sqlite.sqlite\")\n",
    "\n",
    "path = \"Chinook_Sqlite.sqlite\"\n",
    "conn = sqlite3.connect(path)"
   ]
  },
  {
   "cell_type": "code",
   "execution_count": 3,
   "metadata": {},
   "outputs": [],
   "source": [
    "assert type(path) == str"
   ]
  },
  {
   "cell_type": "code",
   "execution_count": 4,
   "metadata": {},
   "outputs": [
    {
     "data": {
      "text/html": [
       "<div>\n",
       "<style scoped>\n",
       "    .dataframe tbody tr th:only-of-type {\n",
       "        vertical-align: middle;\n",
       "    }\n",
       "\n",
       "    .dataframe tbody tr th {\n",
       "        vertical-align: top;\n",
       "    }\n",
       "\n",
       "    .dataframe thead th {\n",
       "        text-align: right;\n",
       "    }\n",
       "</style>\n",
       "<table border=\"1\" class=\"dataframe\">\n",
       "  <thead>\n",
       "    <tr style=\"text-align: right;\">\n",
       "      <th></th>\n",
       "      <th>type</th>\n",
       "      <th>name</th>\n",
       "      <th>tbl_name</th>\n",
       "      <th>rootpage</th>\n",
       "      <th>sql</th>\n",
       "    </tr>\n",
       "  </thead>\n",
       "  <tbody>\n",
       "    <tr>\n",
       "      <th>0</th>\n",
       "      <td>table</td>\n",
       "      <td>Album</td>\n",
       "      <td>Album</td>\n",
       "      <td>2</td>\n",
       "      <td>CREATE TABLE [Album]\\n(\\n    [AlbumId] INTEGER...</td>\n",
       "    </tr>\n",
       "    <tr>\n",
       "      <th>1</th>\n",
       "      <td>table</td>\n",
       "      <td>Artist</td>\n",
       "      <td>Artist</td>\n",
       "      <td>3</td>\n",
       "      <td>CREATE TABLE [Artist]\\n(\\n    [ArtistId] INTEG...</td>\n",
       "    </tr>\n",
       "    <tr>\n",
       "      <th>2</th>\n",
       "      <td>table</td>\n",
       "      <td>Customer</td>\n",
       "      <td>Customer</td>\n",
       "      <td>4</td>\n",
       "      <td>CREATE TABLE [Customer]\\n(\\n    [CustomerId] I...</td>\n",
       "    </tr>\n",
       "    <tr>\n",
       "      <th>3</th>\n",
       "      <td>table</td>\n",
       "      <td>Employee</td>\n",
       "      <td>Employee</td>\n",
       "      <td>7</td>\n",
       "      <td>CREATE TABLE [Employee]\\n(\\n    [EmployeeId] I...</td>\n",
       "    </tr>\n",
       "    <tr>\n",
       "      <th>4</th>\n",
       "      <td>table</td>\n",
       "      <td>Genre</td>\n",
       "      <td>Genre</td>\n",
       "      <td>9</td>\n",
       "      <td>CREATE TABLE [Genre]\\n(\\n    [GenreId] INTEGER...</td>\n",
       "    </tr>\n",
       "    <tr>\n",
       "      <th>5</th>\n",
       "      <td>table</td>\n",
       "      <td>Invoice</td>\n",
       "      <td>Invoice</td>\n",
       "      <td>10</td>\n",
       "      <td>CREATE TABLE [Invoice]\\n(\\n    [InvoiceId] INT...</td>\n",
       "    </tr>\n",
       "    <tr>\n",
       "      <th>6</th>\n",
       "      <td>table</td>\n",
       "      <td>InvoiceLine</td>\n",
       "      <td>InvoiceLine</td>\n",
       "      <td>12</td>\n",
       "      <td>CREATE TABLE [InvoiceLine]\\n(\\n    [InvoiceLin...</td>\n",
       "    </tr>\n",
       "    <tr>\n",
       "      <th>7</th>\n",
       "      <td>table</td>\n",
       "      <td>MediaType</td>\n",
       "      <td>MediaType</td>\n",
       "      <td>14</td>\n",
       "      <td>CREATE TABLE [MediaType]\\n(\\n    [MediaTypeId]...</td>\n",
       "    </tr>\n",
       "    <tr>\n",
       "      <th>8</th>\n",
       "      <td>table</td>\n",
       "      <td>Playlist</td>\n",
       "      <td>Playlist</td>\n",
       "      <td>15</td>\n",
       "      <td>CREATE TABLE [Playlist]\\n(\\n    [PlaylistId] I...</td>\n",
       "    </tr>\n",
       "    <tr>\n",
       "      <th>9</th>\n",
       "      <td>table</td>\n",
       "      <td>PlaylistTrack</td>\n",
       "      <td>PlaylistTrack</td>\n",
       "      <td>16</td>\n",
       "      <td>CREATE TABLE [PlaylistTrack]\\n(\\n    [Playlist...</td>\n",
       "    </tr>\n",
       "    <tr>\n",
       "      <th>11</th>\n",
       "      <td>table</td>\n",
       "      <td>Track</td>\n",
       "      <td>Track</td>\n",
       "      <td>19</td>\n",
       "      <td>CREATE TABLE [Track]\\n(\\n    [TrackId] INTEGER...</td>\n",
       "    </tr>\n",
       "  </tbody>\n",
       "</table>\n",
       "</div>"
      ],
      "text/plain": [
       "     type           name       tbl_name  rootpage  \\\n",
       "0   table          Album          Album         2   \n",
       "1   table         Artist         Artist         3   \n",
       "2   table       Customer       Customer         4   \n",
       "3   table       Employee       Employee         7   \n",
       "4   table          Genre          Genre         9   \n",
       "5   table        Invoice        Invoice        10   \n",
       "6   table    InvoiceLine    InvoiceLine        12   \n",
       "7   table      MediaType      MediaType        14   \n",
       "8   table       Playlist       Playlist        15   \n",
       "9   table  PlaylistTrack  PlaylistTrack        16   \n",
       "11  table          Track          Track        19   \n",
       "\n",
       "                                                  sql  \n",
       "0   CREATE TABLE [Album]\\n(\\n    [AlbumId] INTEGER...  \n",
       "1   CREATE TABLE [Artist]\\n(\\n    [ArtistId] INTEG...  \n",
       "2   CREATE TABLE [Customer]\\n(\\n    [CustomerId] I...  \n",
       "3   CREATE TABLE [Employee]\\n(\\n    [EmployeeId] I...  \n",
       "4   CREATE TABLE [Genre]\\n(\\n    [GenreId] INTEGER...  \n",
       "5   CREATE TABLE [Invoice]\\n(\\n    [InvoiceId] INT...  \n",
       "6   CREATE TABLE [InvoiceLine]\\n(\\n    [InvoiceLin...  \n",
       "7   CREATE TABLE [MediaType]\\n(\\n    [MediaTypeId]...  \n",
       "8   CREATE TABLE [Playlist]\\n(\\n    [PlaylistId] I...  \n",
       "9   CREATE TABLE [PlaylistTrack]\\n(\\n    [Playlist...  \n",
       "11  CREATE TABLE [Track]\\n(\\n    [TrackId] INTEGER...  "
      ]
     },
     "execution_count": 4,
     "metadata": {},
     "output_type": "execute_result"
    }
   ],
   "source": [
    "# Run this cell without changes to see all the\n",
    "# tables in the database.\n",
    "\n",
    "df = pd.read_sql(\n",
    "    \"\"\"\n",
    "    SELECT *\n",
    "    FROM sqlite_master\n",
    "    \"\"\"\n",
    ", conn\n",
    ")\n",
    "\n",
    "df[df['type'] == 'table']"
   ]
  },
  {
   "cell_type": "markdown",
   "metadata": {},
   "source": [
    "### 2) Write a query to return the last ten artists alphabetically."
   ]
  },
  {
   "cell_type": "code",
   "execution_count": 5,
   "metadata": {},
   "outputs": [
    {
     "data": {
      "text/html": [
       "<div>\n",
       "<style scoped>\n",
       "    .dataframe tbody tr th:only-of-type {\n",
       "        vertical-align: middle;\n",
       "    }\n",
       "\n",
       "    .dataframe tbody tr th {\n",
       "        vertical-align: top;\n",
       "    }\n",
       "\n",
       "    .dataframe thead th {\n",
       "        text-align: right;\n",
       "    }\n",
       "</style>\n",
       "<table border=\"1\" class=\"dataframe\">\n",
       "  <thead>\n",
       "    <tr style=\"text-align: right;\">\n",
       "      <th></th>\n",
       "      <th>Name</th>\n",
       "    </tr>\n",
       "  </thead>\n",
       "  <tbody>\n",
       "    <tr>\n",
       "      <th>0</th>\n",
       "      <td>Zeca Pagodinho</td>\n",
       "    </tr>\n",
       "    <tr>\n",
       "      <th>1</th>\n",
       "      <td>Youssou N'Dour</td>\n",
       "    </tr>\n",
       "    <tr>\n",
       "      <th>2</th>\n",
       "      <td>Yo-Yo Ma</td>\n",
       "    </tr>\n",
       "    <tr>\n",
       "      <th>3</th>\n",
       "      <td>Yehudi Menuhin</td>\n",
       "    </tr>\n",
       "    <tr>\n",
       "      <th>4</th>\n",
       "      <td>Xis</td>\n",
       "    </tr>\n",
       "    <tr>\n",
       "      <th>5</th>\n",
       "      <td>Wilhelm Kempff</td>\n",
       "    </tr>\n",
       "    <tr>\n",
       "      <th>6</th>\n",
       "      <td>Whitesnake</td>\n",
       "    </tr>\n",
       "    <tr>\n",
       "      <th>7</th>\n",
       "      <td>Vinícius E Qurteto Em Cy</td>\n",
       "    </tr>\n",
       "    <tr>\n",
       "      <th>8</th>\n",
       "      <td>Vinícius E Odette Lara</td>\n",
       "    </tr>\n",
       "    <tr>\n",
       "      <th>9</th>\n",
       "      <td>Vinícius De Moraes &amp; Baden Powell</td>\n",
       "    </tr>\n",
       "  </tbody>\n",
       "</table>\n",
       "</div>"
      ],
      "text/plain": [
       "                                Name\n",
       "0                     Zeca Pagodinho\n",
       "1                     Youssou N'Dour\n",
       "2                           Yo-Yo Ma\n",
       "3                     Yehudi Menuhin\n",
       "4                                Xis\n",
       "5                     Wilhelm Kempff\n",
       "6                         Whitesnake\n",
       "7           Vinícius E Qurteto Em Cy\n",
       "8             Vinícius E Odette Lara\n",
       "9  Vinícius De Moraes & Baden Powell"
      ]
     },
     "execution_count": 5,
     "metadata": {},
     "output_type": "execute_result"
    }
   ],
   "source": [
    "# CodeGrade step2\n",
    "# Replace None with appropriate code\n",
    "# Hint: Use the Artist table!\n",
    "\n",
    "first_query = \"\"\"\n",
    "SELECT Name\n",
    "FROM Artist\n",
    "ORDER BY Name DESC\n",
    "LIMIT 10\n",
    "\"\"\"\n",
    "\n",
    "pd.read_sql(first_query, conn)"
   ]
  },
  {
   "cell_type": "code",
   "execution_count": 6,
   "metadata": {},
   "outputs": [],
   "source": [
    "# first_query should be a string\n",
    "assert type(first_query) == str\n",
    "\n",
    "# first_query should be a SQL query\n",
    "first_query_df = pd.read_sql(first_query, conn)"
   ]
  },
  {
   "cell_type": "markdown",
   "metadata": {},
   "source": [
    "### 3) Write a query to return all the albums in the database from Led Zeppelin. Just display the album titles."
   ]
  },
  {
   "cell_type": "code",
   "execution_count": 7,
   "metadata": {},
   "outputs": [
    {
     "data": {
      "text/html": [
       "<div>\n",
       "<style scoped>\n",
       "    .dataframe tbody tr th:only-of-type {\n",
       "        vertical-align: middle;\n",
       "    }\n",
       "\n",
       "    .dataframe tbody tr th {\n",
       "        vertical-align: top;\n",
       "    }\n",
       "\n",
       "    .dataframe thead th {\n",
       "        text-align: right;\n",
       "    }\n",
       "</style>\n",
       "<table border=\"1\" class=\"dataframe\">\n",
       "  <thead>\n",
       "    <tr style=\"text-align: right;\">\n",
       "      <th></th>\n",
       "      <th>Title</th>\n",
       "    </tr>\n",
       "  </thead>\n",
       "  <tbody>\n",
       "    <tr>\n",
       "      <th>0</th>\n",
       "      <td>BBC Sessions [Disc 1] [Live]</td>\n",
       "    </tr>\n",
       "    <tr>\n",
       "      <th>1</th>\n",
       "      <td>Physical Graffiti [Disc 1]</td>\n",
       "    </tr>\n",
       "    <tr>\n",
       "      <th>2</th>\n",
       "      <td>BBC Sessions [Disc 2] [Live]</td>\n",
       "    </tr>\n",
       "    <tr>\n",
       "      <th>3</th>\n",
       "      <td>Coda</td>\n",
       "    </tr>\n",
       "    <tr>\n",
       "      <th>4</th>\n",
       "      <td>Houses Of The Holy</td>\n",
       "    </tr>\n",
       "    <tr>\n",
       "      <th>5</th>\n",
       "      <td>In Through The Out Door</td>\n",
       "    </tr>\n",
       "    <tr>\n",
       "      <th>6</th>\n",
       "      <td>IV</td>\n",
       "    </tr>\n",
       "    <tr>\n",
       "      <th>7</th>\n",
       "      <td>Led Zeppelin I</td>\n",
       "    </tr>\n",
       "    <tr>\n",
       "      <th>8</th>\n",
       "      <td>Led Zeppelin II</td>\n",
       "    </tr>\n",
       "    <tr>\n",
       "      <th>9</th>\n",
       "      <td>Led Zeppelin III</td>\n",
       "    </tr>\n",
       "    <tr>\n",
       "      <th>10</th>\n",
       "      <td>Physical Graffiti [Disc 2]</td>\n",
       "    </tr>\n",
       "    <tr>\n",
       "      <th>11</th>\n",
       "      <td>Presence</td>\n",
       "    </tr>\n",
       "    <tr>\n",
       "      <th>12</th>\n",
       "      <td>The Song Remains The Same (Disc 1)</td>\n",
       "    </tr>\n",
       "    <tr>\n",
       "      <th>13</th>\n",
       "      <td>The Song Remains The Same (Disc 2)</td>\n",
       "    </tr>\n",
       "  </tbody>\n",
       "</table>\n",
       "</div>"
      ],
      "text/plain": [
       "                                 Title\n",
       "0         BBC Sessions [Disc 1] [Live]\n",
       "1           Physical Graffiti [Disc 1]\n",
       "2         BBC Sessions [Disc 2] [Live]\n",
       "3                                 Coda\n",
       "4                   Houses Of The Holy\n",
       "5              In Through The Out Door\n",
       "6                                   IV\n",
       "7                       Led Zeppelin I\n",
       "8                      Led Zeppelin II\n",
       "9                     Led Zeppelin III\n",
       "10          Physical Graffiti [Disc 2]\n",
       "11                            Presence\n",
       "12  The Song Remains The Same (Disc 1)\n",
       "13  The Song Remains The Same (Disc 2)"
      ]
     },
     "execution_count": 7,
     "metadata": {},
     "output_type": "execute_result"
    }
   ],
   "source": [
    "# CodeGrade step3\n",
    "# Replace None with appropriate code\n",
    "# Hint: Use the Artist and Album tables!\n",
    "\n",
    "second_query = \"\"\"\n",
    "SELECT A.Title\n",
    "FROM Album AS A\n",
    "JOIN Artist ON A.ArtistId = Artist.ArtistId\n",
    "WHERE Artist.Name = \"Led Zeppelin\";\n",
    "\"\"\"\n",
    "\n",
    "pd.read_sql(second_query, conn)"
   ]
  },
  {
   "cell_type": "code",
   "execution_count": 8,
   "metadata": {},
   "outputs": [],
   "source": [
    "# second_query should be a string\n",
    "assert type(second_query) == str\n",
    "\n",
    "# second_query should be a SQL query\n",
    "second_query_df = pd.read_sql(second_query, conn)"
   ]
  },
  {
   "cell_type": "markdown",
   "metadata": {},
   "source": [
    "### 4) Write a query to return both the artist with the most albums in the database and the respective number of albums they have (1 row)."
   ]
  },
  {
   "cell_type": "code",
   "execution_count": 9,
   "metadata": {},
   "outputs": [
    {
     "data": {
      "text/html": [
       "<div>\n",
       "<style scoped>\n",
       "    .dataframe tbody tr th:only-of-type {\n",
       "        vertical-align: middle;\n",
       "    }\n",
       "\n",
       "    .dataframe tbody tr th {\n",
       "        vertical-align: top;\n",
       "    }\n",
       "\n",
       "    .dataframe thead th {\n",
       "        text-align: right;\n",
       "    }\n",
       "</style>\n",
       "<table border=\"1\" class=\"dataframe\">\n",
       "  <thead>\n",
       "    <tr style=\"text-align: right;\">\n",
       "      <th></th>\n",
       "      <th>ArtistName</th>\n",
       "      <th>NumberOfAlbum</th>\n",
       "    </tr>\n",
       "  </thead>\n",
       "  <tbody>\n",
       "    <tr>\n",
       "      <th>0</th>\n",
       "      <td>Iron Maiden</td>\n",
       "      <td>21</td>\n",
       "    </tr>\n",
       "  </tbody>\n",
       "</table>\n",
       "</div>"
      ],
      "text/plain": [
       "    ArtistName  NumberOfAlbum\n",
       "0  Iron Maiden             21"
      ]
     },
     "execution_count": 9,
     "metadata": {},
     "output_type": "execute_result"
    }
   ],
   "source": [
    "# CodeGrade step4\n",
    "# Replace None with appropriate code\n",
    "\n",
    "third_query = \"\"\"\n",
    "SELECT A.Name as ArtistName, COUNT(*) AS NumberOfAlbum\n",
    "FROM Artist AS A\n",
    "JOIN Album ON A.ArtistId = Album.ArtistId\n",
    "GROUP BY A.ArtistId\n",
    "ORDER BY NumberOfAlbum DESC\n",
    "LIMIT 1;\n",
    "\"\"\"\n",
    "\n",
    "pd.read_sql(third_query, conn)"
   ]
  },
  {
   "cell_type": "code",
   "execution_count": 10,
   "metadata": {},
   "outputs": [],
   "source": [
    "# third_query should be a string\n",
    "assert type(third_query) == str\n",
    "\n",
    "# third_query should be a SQL query\n",
    "third_query_df = pd.read_sql(third_query, conn)"
   ]
  },
  {
   "cell_type": "markdown",
   "metadata": {
    "nbgrader": {
     "grade": false,
     "grade_id": "cell-312fddb195007e20",
     "locked": true,
     "schema_version": 3,
     "solution": false,
     "task": false
    }
   },
   "source": [
    "---\n",
    "## Part 2: Normal Distribution [Suggested time: 20 minutes]\n",
    "---\n",
    "In this part, you will analyze check totals at a TexMex restaurant. We know that the population distribution of check totals for the TexMex restaurant is normally distributed with a mean of $20 and a standard deviation of $3. "
   ]
  },
  {
   "cell_type": "markdown",
   "metadata": {
    "nbgrader": {
     "grade": false,
     "grade_id": "cell-46b6b6254aeeff59",
     "locked": true,
     "schema_version": 3,
     "solution": false,
     "task": false
    }
   },
   "source": [
    "### 5) Create a numeric variable `z_score_26` containing the z-score for a $26 check. "
   ]
  },
  {
   "cell_type": "code",
   "execution_count": 11,
   "metadata": {
    "nbgrader": {
     "grade": false,
     "grade_id": "cell-ef9660b9613a17a4",
     "locked": true,
     "schema_version": 3,
     "solution": false,
     "task": false
    }
   },
   "outputs": [
    {
     "data": {
      "text/plain": [
       "2.0"
      ]
     },
     "execution_count": 11,
     "metadata": {},
     "output_type": "execute_result"
    }
   ],
   "source": [
    "# CodeGrade step5\n",
    "# Replace None with appropriate code\n",
    "x = 26\n",
    "mu = 20\n",
    "sigma = 3\n",
    "z_score_26 = (x-mu)/sigma\n",
    "z_score_26"
   ]
  },
  {
   "cell_type": "code",
   "execution_count": 12,
   "metadata": {},
   "outputs": [],
   "source": [
    "# This test confirms that you have created a numeric variable named z_score_26\n",
    "\n",
    "assert isinstance(z_score_26, Number)"
   ]
  },
  {
   "cell_type": "markdown",
   "metadata": {
    "nbgrader": {
     "grade": false,
     "grade_id": "cell-42d5460165295bb7",
     "locked": true,
     "schema_version": 3,
     "solution": false,
     "task": false
    }
   },
   "source": [
    "### 6) Create a numeric variable `p_under_26` containing the approximate proportion of all checks that are less than or equal to $26.\n",
    "\n",
    "Hint: Use the answer from the previous question along with the empirical rule, a Python function, or this [z-table](https://www.math.arizona.edu/~rsims/ma464/standardnormaltable.pdf)."
   ]
  },
  {
   "cell_type": "code",
   "execution_count": 13,
   "metadata": {
    "nbgrader": {
     "grade": false,
     "grade_id": "cell-999dca2e2a1e09ba",
     "locked": true,
     "schema_version": 3,
     "solution": false,
     "task": false
    }
   },
   "outputs": [
    {
     "data": {
      "text/plain": [
       "0.9772498680518208"
      ]
     },
     "execution_count": 13,
     "metadata": {},
     "output_type": "execute_result"
    }
   ],
   "source": [
    "# CodeGrade step6\n",
    "# Replace None with appropriate code\n",
    "\n",
    "p_under_26 = stats.norm.cdf(z_score_26)\n",
    "p_under_26"
   ]
  },
  {
   "cell_type": "code",
   "execution_count": 14,
   "metadata": {},
   "outputs": [],
   "source": [
    "# This test confirms that you have created a numeric variable named p_under_26\n",
    "\n",
    "assert isinstance(p_under_26, Number)\n",
    "\n",
    "# These tests confirm that p_under_26 is a value between 0 and 1\n",
    "\n",
    "assert p_under_26 >= 0\n",
    "assert p_under_26 <= 1"
   ]
  },
  {
   "cell_type": "markdown",
   "metadata": {
    "nbgrader": {
     "grade": false,
     "grade_id": "cell-b20994e953b823df",
     "locked": true,
     "schema_version": 3,
     "solution": false,
     "task": false
    }
   },
   "source": [
    "### 7-A) Create numeric variables `conf_low` and `conf_high` containing the lower and upper bounds (respectively) of a 95% confidence interval for the mean of one waiter's check amounts using the information below. \n",
    "\n",
    "One week, a waiter gets 100 checks with a mean of $19 and a standard deviation of $3."
   ]
  },
  {
   "cell_type": "code",
   "execution_count": 15,
   "metadata": {
    "nbgrader": {
     "grade": false,
     "grade_id": "cell-a4925898f2c5bfb5",
     "locked": true,
     "schema_version": 3,
     "solution": false,
     "task": false
    }
   },
   "outputs": [
    {
     "name": "stdout",
     "output_type": "stream",
     "text": [
      "Confidence interval is between:18.412 et 19.588\n"
     ]
    }
   ],
   "source": [
    "# CodeGrade step7\n",
    "# Replace None with appropriate code\n",
    "import math\n",
    "n = 100\n",
    "mean = 19\n",
    "std = 3\n",
    "\n",
    "se = std/math.sqrt(n) #standard error\n",
    "z_star = round(stats.norm.ppf(0.975),2) #Z-value for 95% confidence. 2.5% each side to center\n",
    "\n",
    "conf_low = mean-z_star*se\n",
    "conf_high = mean+z_star*se\n",
    "print(f\"Confidence interval is between:{conf_low} et {conf_high}\")"
   ]
  },
  {
   "cell_type": "markdown",
   "metadata": {
    "nbgrader": {
     "grade": false,
     "grade_id": "cell-fb9ed0f70c9bd8de",
     "locked": true,
     "schema_version": 3,
     "solution": false,
     "task": false
    }
   },
   "source": [
    "### 7-B) Short Answer: Interpret the 95% confidence interval you just calculated in Question 2.3."
   ]
  },
  {
   "cell_type": "code",
   "execution_count": 16,
   "metadata": {},
   "outputs": [
    {
     "name": "stdout",
     "output_type": "stream",
     "text": [
      "The lower bound of the 95% confidence interval is 18.412\n",
      "The upper bound of the 95% confidence interval is 19.588\n"
     ]
    }
   ],
   "source": [
    "# These tests confirm that you have created numeric variables named conf_low and conf_high\n",
    "\n",
    "assert isinstance(conf_low, Number)\n",
    "assert isinstance(conf_high, Number)\n",
    "\n",
    "# This test confirms that conf_low is below conf_high\n",
    "\n",
    "assert conf_low < conf_high\n",
    "\n",
    "# These statements print your answers for reference to help answer the next question\n",
    "\n",
    "print('The lower bound of the 95% confidence interval is {}'.format(conf_low))\n",
    "print('The upper bound of the 95% confidence interval is {}'.format(conf_high))"
   ]
  },
  {
   "cell_type": "markdown",
   "metadata": {},
   "source": [
    "# Your answer here\n",
    "### We can estimate that the true mean lies between the two bounds, 18.41 and 19.59 , with a 95% confidence level.\n"
   ]
  },
  {
   "cell_type": "markdown",
   "metadata": {
    "nbgrader": {
     "grade": false,
     "grade_id": "cell-782ab283e22ce5ae",
     "locked": true,
     "schema_version": 3,
     "solution": false,
     "task": false
    }
   },
   "source": [
    "---\n",
    "## Part 3: Statistical Testing [Suggested time: 20 minutes]\n",
    "---\n",
    "The TexMex restaurant recently introduced queso to its menu.\n",
    "\n",
    "We have a random sample containing 2000 check totals, all from different customers: 1000 check totals for orders without queso (\"no queso\") and 1000 check totals for orders with queso (\"queso\")."
   ]
  },
  {
   "cell_type": "markdown",
   "metadata": {
    "nbgrader": {
     "grade": false,
     "grade_id": "cell-05f7dc82e438a77f",
     "locked": true,
     "schema_version": 3,
     "solution": false,
     "task": false
    }
   },
   "source": [
    "### 8-A) Short Answer: State null and alternative hypotheses to use for testing whether customers who order queso spend different amounts of money from customers who do not order queso."
   ]
  },
  {
   "cell_type": "markdown",
   "metadata": {},
   "source": [
    "# There is no difference in the average amount spent between the two groups. mu_queso = mu_no_queso\n",
    "# There is a difference in the average amount spent between the two groups. mu_queso != mu_no_queso\n",
    "\n"
   ]
  },
  {
   "cell_type": "markdown",
   "metadata": {
    "nbgrader": {
     "grade": false,
     "grade_id": "cell-483bc2fff57780fa",
     "locked": true,
     "schema_version": 3,
     "solution": false,
     "task": false
    }
   },
   "source": [
    "### 8-B) Short Answer: What would it mean to make a Type I error for this specific hypothesis test?\n",
    "\n",
    "Your answer should be _specific to this context,_  not a general statement of what Type I error is."
   ]
  },
  {
   "cell_type": "markdown",
   "metadata": {},
   "source": [
    "# To make a type I error for this specific hypothesis test means, reject the null hypothesis even though it is actually true.\n",
    "\n"
   ]
  },
  {
   "cell_type": "markdown",
   "metadata": {
    "nbgrader": {
     "grade": false,
     "grade_id": "cell-b044519654b42877",
     "locked": true,
     "schema_version": 3,
     "solution": false,
     "task": false
    }
   },
   "source": [
    "### 8-C) Create a numeric variable `p_value` containing the p-value associated with a statistical test of your hypotheses.\n",
    "\n",
    "In the cell below, we load the sample data for you into the arrays `no_queso` and `queso` for the \"no queso\" and \"queso\" order check totals, respectively.\n",
    "\n",
    "You must identify and implement the correct statistical test for this scenario. You can assume the two samples have equal variances.\n",
    "\n",
    "Hint: Use `scipy.stats` to calculate the answer - it has already been imported as `stats`. Relevant documentation can be found [here](https://docs.scipy.org/doc/scipy/reference/stats.html#statistical-tests)."
   ]
  },
  {
   "cell_type": "code",
   "execution_count": 21,
   "metadata": {
    "nbgrader": {
     "grade": false,
     "grade_id": "cell-db4a0aa68c4107d0",
     "locked": true,
     "schema_version": 3,
     "solution": false,
     "task": false
    }
   },
   "outputs": [
    {
     "data": {
      "text/plain": [
       "1.29670967092511e-307"
      ]
     },
     "execution_count": 21,
     "metadata": {},
     "output_type": "execute_result"
    }
   ],
   "source": [
    "# CodeGrade step8\n",
    "# Load the sample data \n",
    "no_queso = pickle.load(open('./no_queso.pkl', 'rb'))\n",
    "queso = pickle.load(open('./queso.pkl', 'rb'))\n",
    "\n",
    "# Replace None with appropriate code\n",
    "t_stat, p_value = stats.ttest_ind(queso, no_queso, equal_var=True)\n",
    "p_value"
   ]
  },
  {
   "cell_type": "code",
   "execution_count": 22,
   "metadata": {},
   "outputs": [],
   "source": [
    "# This test confirms that you have created a numeric variable named p_value\n",
    "\n",
    "assert isinstance(p_value, Number)"
   ]
  },
  {
   "cell_type": "markdown",
   "metadata": {
    "nbgrader": {
     "grade": false,
     "grade_id": "cell-98db6e15784f2ead",
     "locked": true,
     "schema_version": 3,
     "solution": false,
     "task": false
    }
   },
   "source": [
    "### 8-D) Short Answer: Can you reject the null hypothesis using a significance level of $\\alpha$ = 0.05? Explain why or why not."
   ]
  },
  {
   "cell_type": "markdown",
   "metadata": {},
   "source": [
    "# The p-value is essentially 0, p<0.05 , very much less than 0.05. So we can reject the null hypothesis. The customers who order queso spend a different amount than those who don’t.\n"
   ]
  },
  {
   "cell_type": "code",
   "execution_count": null,
   "metadata": {},
   "outputs": [],
   "source": []
  }
 ],
 "metadata": {
  "celltoolbar": "Create Assignment",
  "kernelspec": {
   "display_name": "Python 3 (ipykernel)",
   "language": "python",
   "name": "python3"
  },
  "language_info": {
   "codemirror_mode": {
    "name": "ipython",
    "version": 3
   },
   "file_extension": ".py",
   "mimetype": "text/x-python",
   "name": "python",
   "nbconvert_exporter": "python",
   "pygments_lexer": "ipython3",
   "version": "3.12.7"
  },
  "toc": {
   "base_numbering": 1,
   "nav_menu": {},
   "number_sections": true,
   "sideBar": true,
   "skip_h1_title": false,
   "title_cell": "Table of Contents",
   "title_sidebar": "Contents",
   "toc_cell": false,
   "toc_position": {},
   "toc_section_display": true,
   "toc_window_display": false
  }
 },
 "nbformat": 4,
 "nbformat_minor": 4
}
